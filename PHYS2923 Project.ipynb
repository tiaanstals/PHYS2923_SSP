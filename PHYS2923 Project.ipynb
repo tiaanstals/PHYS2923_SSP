{
 "cells": [
  {
   "cell_type": "markdown",
   "metadata": {},
   "source": [
    "# PHYS2923 SSP Project\n",
    "\n",
    "\n",
    "### Aim\n",
    "Initially the aim of this code is to simulate ~100 particles in a 1nm*4 square box. The goal is to study how certain thermodynamic variables such as temperature, pressure, entropy behave and whether we can make sense of them on this small scale. "
   ]
  },
  {
   "cell_type": "markdown",
   "metadata": {},
   "source": [
    "### Defining parameters\n",
    "\n",
    "#### Box\n",
    "* The box will consist of 4 walls which are $10^{-9}$m in length\n",
    "* One wall will be an adjustable wall which can be moved in similar to a piston\n",
    "* The wall will essentially consist of **hard**, but infinitesimally small particles which elastically collide with the particles inside the box\n",
    "* The walls will be used to measure pressure\n",
    "\n",
    "#### Particles\n",
    "* Each particle will be circular, and have a radius of the Bohr radius $a_0 = 5.29177210903\\cdot10^{-11}$m\n",
    "* Each particle will have a mass equal to that of Hydrogen 1.00784 AMU\n",
    "* Each particle will be described using the following three vectors:\n",
    "\n",
    "* Position $ \\vec x = (x, y)$\n",
    "\n",
    "* Velocity $ \\vec v = (v_x, v_y)$\n",
    "\n",
    "* Acceleration $ \\vec a = (a_x, a_y)$"
   ]
  },
  {
   "cell_type": "markdown",
   "metadata": {},
   "source": [
    "### Forces acting on the particles\n",
    "#### Elastic repulsive force between particles\n",
    "For two particles $A$ and $B$ if:\n",
    "\n",
    "$$distance(\\vec x_a, \\vec x_b) \\le 2a_0$$\n",
    "\n",
    "At this point, our particles will have an elastic collision in $2-D$ whereby the conservation laws of momentum and kinetic energy. For each particle, its velocity must be split into the component along the direction of the collision and one component perpendicular to the collision. Since momentum (and hence velocity) is only imparted along the direction of the collision, the component perpendicular remains unchanged. The velocities along the line of collision can then be changed according the the equations of a $1-D$ collision \n",
    "\n",
    "###### Begin with a 1D collision\n",
    "To begin with a $1-D$ collision, first let us consider the relevant laws:\n",
    "\n",
    "Momentum: $\\vec p = m \\vec v$\n",
    "<br>\n",
    "Kinetic energy: $KE = \\frac{1}{2} m \\vec v^2$\n",
    "\n",
    "Conservation of **momentum**: \n",
    "$$\\vec p_a + \\vec p_b = \\vec p_a' + \\vec p_b'$$\n",
    "\n",
    "Conservation of **kinetic energy**:\n",
    "$$\\frac{1}{2} m_a \\vec v_a^2 + \\frac{1}{2} m_b \\vec v_b^2 = \\frac{1}{2} m_a \\vec v_a'^2 + \\frac{1}{2} m_b \\vec v_b'^2$$"
   ]
  },
  {
   "cell_type": "markdown",
   "metadata": {},
   "source": [
    "This leaves us with a final result if we work through the algebra:\n",
    "\n",
    "$$ v_a' = \\frac{v_a (m_a - m_b) + 2 m_b v_b}{m_a + m_b}$$\n",
    "$$ v_b' = \\frac{v_b (m_b - m_a) + 2 m_a v_a}{m_a + m_b}$$\n",
    "\n",
    "We can use this in our 2-D collision system"
   ]
  },
  {
   "cell_type": "markdown",
   "metadata": {},
   "source": [
    "##### Elastic Collisions in 2D\n",
    "\n",
    "1. Firstly we need to find the unit normal and unit tangent vectors with respect to the line of the collision. \n",
    "\n",
    "The normal vector\n",
    "$$ \\vec n = ( x_b - x_a, y_b - y_a)$$\n",
    "\n",
    "Next we find the unit vector of $ \\vec n$, denoted $\\hat n$\n",
    "$$ \\hat n = \\frac{\\vec n}{|\\vec n|} = \\frac{\\vec n}{\\sqrt{n_x^2 + n_y^2}}$$\n",
    "\n",
    "To generate the unit tangent vector $\\hat t$:\n",
    "\n",
    "$$ \\hat t = (-\\hat n_y, \\hat n_x)$$\n",
    "\n",
    "2. Now we need to project the velocity components of our particles onto the unit normal and unit tangent vectors using the dot product:\n",
    "\n",
    "$$v_{an} = \\hat n \\cdot \\vec v_a$$\n",
    "$$v_{at} = \\hat t \\cdot \\vec v_a$$\n",
    "\n",
    "$$v_{bn} = \\hat n \\cdot \\vec v_b$$\n",
    "$$v_{at} = \\hat n \\cdot \\vec v_t$$\n",
    "\n",
    "3. Find the new tangential velocities after the collision. This is quite simple, they are unaffected.\n",
    "\n",
    "$$v'_{at} = v_{at}$$\n",
    "$$v'_{bt} = v_{bt}$$"
   ]
  },
  {
   "cell_type": "markdown",
   "metadata": {},
   "source": [
    "4. Now we have to find the new normal velocities. Here we use the one dimensional collision formulas\n",
    "$$ v_{an}' = \\frac{v_{an} (m_a - m_b) + 2 m_b v_{bn}}{m_a + m_b}$$\n",
    "$$ v_{bn}'= \\frac{v_{bn} (m_b - m_a) + 2 m_a v_{an}}{m_a + m_b}$$\n",
    "\n",
    "5. Now we convert the scalar normal and tangential normal velocities back into vectors. We do this by multiplying the unit normal vector by the scalar normal velocity (cf. tangential)\n",
    "\n",
    "$$\\vec v_{an}' = v_{an}' \\cdot \\hat n$$\n",
    "$$\\vec v_{at}' = v_{at}' \\cdot \\hat t$$\n",
    "\n",
    "$$\\vec v_{bn}' = v_{bn}' \\cdot \\hat n$$\n",
    "$$\\vec v_{bt}' = v_{bt}' \\cdot \\hat t$$\n",
    "\n",
    "6. Then we create our new velocity vectors by by adding the normal and tangential components of each particle:\n",
    "\n",
    "$$ \\vec v_a' = \\vec v_{an}' + \\vec v_{at}'$$\n",
    "$$ \\vec v_b' = \\vec v_{bn}' + \\vec v_{bt}'$$\n",
    "\n",
    "7. The last step is to resolve the  these vectors back into $(v_x, v_y)$\n",
    "\n",
    "We do this by by projecting the velocity vectors onto the unit vectors in the $x$ and $y$ directions:\n",
    "$$ \\vec v_a' = (\\hat i \\cdot \\vec v_a', \\hat j \\cdot \\vec v_a') = (v_{ax}', v_{ay}')$$\n",
    "$$ \\vec v_b' = (\\hat i \\cdot \\vec v_b', \\hat j \\cdot \\vec v_b') = (v_{bx}', v_{by}')$$\n",
    "\n",
    "Given that our Velocity Verlet algorithm uses acceleration to apply changes to velocity, we cannot simply instantaneously change velocity. We need to convert the changes in velocity from this collision to equivalent acceleration in order for the algorithm to work. To do this:\n",
    "\n",
    "$$ \\vec a_a' = \\frac{(\\vec v_a' - \\vec v_a)}{\\Delta t}$$\n",
    "$$ \\vec a_b' = \\frac{(\\vec v_b' - \\vec v_b)}{\\Delta t}$$"
   ]
  },
  {
   "cell_type": "markdown",
   "metadata": {},
   "source": [
    "##### Collisions with the wall\n",
    "Since the particle is to be confined to a box, when the particle hits a wall we need to define the behaviour. The way to do this is to check the distance between the position coordinates of the particle and each of the walls. The way to do this is to check the distance between the center coordinates $(x_0,y_0)$ and a line defined by two points $(P_1, P_2)$ see [Wikipedia](https://en.wikipedia.org/wiki/Distance_from_a_point_to_a_line):\n",
    "\n",
    "$$distance(P_1, P_2, (x_0, y_0)) = \\frac{|(x_2 - x_1)(y_1 - y_0) - (x_1 - x_0)(y_2 - y_1)|}{\\sqrt{(x_2 -x_1)^2 +(y_2 -y_1)^2}}$$\n",
    "\n",
    "\n",
    "There are a few cases which can occur here. \n",
    "\n",
    "1. The particle is closer than or equal to its radius from the **one** wall. In the case that it is a vertical wall, the horizontal velocity vector of the particle changes sign. If it is a horizontal wall, the vertical velocity vector changes sign\n",
    "2. In the case the particle is closer to 2 wall (corners) both velocity vectors are changed. \n",
    "\n",
    "###### Representing our Box\n",
    "Consider we have 4 points which represent our walls and one point representing the center of our particle. We have 2 limits, an $x_{lim}$ and a $y_{lim}$. Thus we have four points representing our box:\n",
    "\n",
    "* Left-Bottom Corner: $(0,0)$\n",
    "* Left-Top Corner: $(0, y_{lim})$\n",
    "* Right-Bottom Corner: $(x_{lim}, 0)$\n",
    "* Right-Top Corner: $(x_{lim}, y_{lim})$\n",
    "\n",
    "Thus there are two horizontal lines and two vertical lines defined by their end points:\n",
    "\n",
    "* Vertical Line 1: $((0,0),(0, y_{lim}))$\n",
    "* Vertical Line 2: $((x_{lim}, 0),(x_{lim}, y_{lim}))$\n",
    "* Horizontal Line 1: $((0,0),(x_{lim}, 0)$\n",
    "* Horizontal Line 2: $((0,y_{lim}),(x_{lim}, y_{lim}))$"
   ]
  },
  {
   "cell_type": "markdown",
   "metadata": {},
   "source": [
    "###### Collisions with one wall\n",
    "1. Vertical collisions\n",
    "\n",
    "$$If$$\n",
    "$$distance((0,0),(0, y_{lim}), (x_0, y_0)) \\le a_0 $$\n",
    "\n",
    "$$or $$\n",
    "\n",
    "$$distance((x_{lim}, 0),(x_{lim}, y_{lim}), (x_0, y_0)) \\le a_0$$\n",
    "\n",
    "$$then$$\n",
    "\n",
    "$$ \\vec v' = (-v_x, v_y)$$\n",
    "\n",
    "Given then that we need to think about changes in velocity in terms of acceleration, we have:\n",
    "\n",
    "$$ \\vec a' = \\frac{(v_x'-v_x,v_y'-v_y)}{\\Delta t} = \\frac{(-v_x-v_x,0)}{\\Delta t} =\\frac{(-2v_x,0)}{\\Delta t}$$"
   ]
  },
  {
   "cell_type": "markdown",
   "metadata": {},
   "source": [
    "2. Horizontal collisions\n",
    "\n",
    "$$If$$\n",
    "$$distance((0,0),(x_{lim}, 0), (x_0, y_0)) \\le a_0 $$\n",
    "\n",
    "$$or $$\n",
    "$$distance((0,y_{lim}),(x_{lim}, y_{lim})) \\le a_0$$\n",
    "\n",
    "$$then$$\n",
    "\n",
    "$$ \\vec v' = (v_x, -v_y)$$\n",
    "\n",
    "Given then that we need to think about changes in velocity in terms of acceleration, we have:\n",
    "\n",
    "$$ \\vec a' = \\frac{(v_x'-v_x,v_y'-v_y)}{\\Delta t} = \\frac{(0,-v_y-v_y)}{\\Delta t} =\\frac{(0,-2v_y)}{\\Delta t}$$\n",
    "\n",
    "###### Collisions with 2 walls\n",
    "In the case that the distance between a particle and any two walls is less than or equal to $a_0$ then both the $x$ and $y$ velocity components reverse. Could this be more complex?\n",
    "\n",
    "$$ \\vec v' = (-v_x, -v_y)$$\n",
    "\n",
    "Given then that we need to think about changes in velocity in terms of acceleration, we have:\n",
    "\n",
    "$$ \\vec a' = \\frac{(v_x'-v_x,v_y'-v_y)}{\\Delta t} = \\frac{(-v_x-v_x,-v_y-v_y)}{\\Delta t} =\\frac{(-2v_x,-2v_y)}{\\Delta t}$$"
   ]
  },
  {
   "cell_type": "markdown",
   "metadata": {},
   "source": [
    "#### Attractive potential between particles\n",
    "TBC"
   ]
  },
  {
   "cell_type": "markdown",
   "metadata": {},
   "source": [
    "### Velocity Verlet Algorithm\n",
    "Suppose we have a system with N particles. As we have discussed, each particle $i$ has position, velocity and acceleration vectors at a particular time $t$ denoted by:\n",
    "* Position $ \\vec x_i(t) = (x_i, y_i)$\n",
    "\n",
    "* Velocity $ \\vec v_i(t) = (v_{ix}, v_{iy})$\n",
    "\n",
    "* Acceleration $ \\vec a_i(t) = (a_{ix}, a_{iy})$\n",
    "\n",
    "Importantly, we assume our Acceleration $ \\vec a_i(t)$ depends only on position not on velocity. \n",
    "\n",
    "First we begin with a particle with a known set of position, velocity and acceleration vectors at a time $t$:\n",
    "$ \\vec x_i(t) = (x_0, y_0)$\n",
    "\n",
    "$ \\vec v_i(t) = (v_{x0}, v_{y0})$\n",
    "\n",
    "$ \\vec a_i(t) = (a_{x0}, a_{x0})$\n",
    "\n",
    "Now we calculate our new position and velocity after time $\\Delta t$:\n",
    "\n",
    "$$ \\vec x_i(t + \\Delta t) = x_i(t) + v_i(t)\\Delta t + \\frac{1}{2}a_i(t) \\Delta t^2$$\n",
    "\n",
    "$$ \\vec v_i(t + \\Delta t) = v_i(t) + \\frac{\\vec a(t) + \\vec a(t + \\Delta t)}{2} \\Delta t$$\n",
    "\n",
    "We can simplify the algorithm to the following:\n",
    "\n",
    "1. Calculate $ \\vec x_i(t + \\Delta t) = x_i(t) + v_i(t)\\Delta t + \\frac{1}{2}a_i(t) \\Delta t^2$\n",
    "2. Calculate $ \\vec a_i(t) $ using our particle interactions\n",
    "3. Calculate $ \\vec v_i(t + \\Delta t) = v_i(t) + \\frac{\\vec a(t) + \\vec a(t + \\Delta t)}{2} \\Delta t$"
   ]
  },
  {
   "cell_type": "markdown",
   "metadata": {},
   "source": []
  },
  {
   "cell_type": "code",
   "execution_count": null,
   "metadata": {},
   "outputs": [],
   "source": []
  }
 ],
 "metadata": {
  "kernelspec": {
   "display_name": "Python 3",
   "language": "python",
   "name": "python3"
  },
  "language_info": {
   "codemirror_mode": {
    "name": "ipython",
    "version": 3
   },
   "file_extension": ".py",
   "mimetype": "text/x-python",
   "name": "python",
   "nbconvert_exporter": "python",
   "pygments_lexer": "ipython3",
   "version": "3.6.5"
  }
 },
 "nbformat": 4,
 "nbformat_minor": 4
}
