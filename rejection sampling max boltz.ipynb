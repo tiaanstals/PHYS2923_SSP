{
 "cells": [
  {
   "cell_type": "code",
   "execution_count": 159,
   "id": "5b50d6ee",
   "metadata": {},
   "outputs": [],
   "source": [
    "import numpy as np\n",
    "import matplotlib.pyplot as plt\n",
    "from scipy import integrate\n",
    "import sympy as sym\n",
    "import scipy.stats as sp"
   ]
  },
  {
   "cell_type": "code",
   "execution_count": 233,
   "id": "ff02c9aa",
   "metadata": {},
   "outputs": [],
   "source": [
    "m = 1.673e-27\n",
    "\n",
    "N = 6.022e23\n",
    "\n",
    "k = 1.381e-23\n",
    "\n",
    "T = 4\n",
    "\n",
    "R = 8.314\n",
    "\n",
    "pi = np.pi\n",
    "\n",
    "rms = np.sqrt((3 * R * T) / (N * m))\n",
    "\n",
    "y = np.linspace(0, 3 * rms)\n",
    "\n",
    "# this is the maxwell boltzmann equation\n",
    "def f(v):\n",
    "    return ((4 * pi * (m / (2 * pi * k * T)) ** (3 / 2)) * (v ** 2) * np.exp((-m * (v ** 2) / (2 * k * T))))"
   ]
  },
  {
   "cell_type": "code",
   "execution_count": 234,
   "id": "d07b6226",
   "metadata": {},
   "outputs": [],
   "source": [
    "# define a pdf within the domain y\n",
    "def _g(x):\n",
    "    return (1 / (3 * rms))"
   ]
  },
  {
   "cell_type": "code",
   "execution_count": 235,
   "id": "bf278e1e",
   "metadata": {},
   "outputs": [],
   "source": [
    "# scale g(y) such that it is greater than f(y)\n",
    "M = 1.1 * np.max(f(y) / g(y))"
   ]
  },
  {
   "cell_type": "code",
   "execution_count": 236,
   "id": "a4c17c0c",
   "metadata": {},
   "outputs": [],
   "source": [
    "X = []\n",
    "n = 100000\n",
    "\n",
    "for i in range (n):\n",
    "    x = np.random.uniform(0, 3 * rms)\n",
    "    if f(x)/(M*g(x)) > np.random.uniform(0, 1):\n",
    "        X.append(x)\n",
    "        \n",
    "density = []\n",
    "for numbers in X:\n",
    "    density.append(numbers / len(X))\n",
    "    \n"
   ]
  },
  {
   "cell_type": "code",
   "execution_count": 237,
   "id": "080188d7",
   "metadata": {},
   "outputs": [
    {
     "data": {
      "text/plain": [
       "[<matplotlib.lines.Line2D at 0x296191894f0>]"
      ]
     },
     "execution_count": 237,
     "metadata": {},
     "output_type": "execute_result"
    },
    {
     "data": {
      "image/png": "[encoded data removed]",
      "text/plain": [
       "<Figure size 432x288 with 1 Axes>"
      ]
     },
     "metadata": {
      "needs_background": "light"
     },
     "output_type": "display_data"
    }
   ],
   "source": [
    "plt.hist(X, bins = 20, fc = (0, 0, 1, 1), density = True)\n",
    "\n",
    "plt.plot(y, f(y))"
   ]
  },
  {
   "cell_type": "code",
   "execution_count": null,
   "id": "271150b4",
   "metadata": {},
   "outputs": [],
   "source": []
  }
 ],
 "metadata": {
  "kernelspec": {
   "display_name": "Python 3",
   "language": "python",
   "name": "python3"
  },
  "language_info": {
   "codemirror_mode": {
    "name": "ipython",
    "version": 3
   },
   "file_extension": ".py",
   "mimetype": "text/x-python",
   "name": "python",
   "nbconvert_exporter": "python",
   "pygments_lexer": "ipython3",
   "version": "3.8.8"
  }
 },
 "nbformat": 4,
 "nbformat_minor": 5
}
