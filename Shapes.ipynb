{
 "cells": [
  {
   "cell_type": "code",
   "execution_count": null,
   "id": "30f9452a",
   "metadata": {},
   "outputs": [],
   "source": [
    "import numpy as np\n",
    "\n",
    "pi = np.pi\n",
    "\n",
    "def cos(x):\n",
    "    return np.cos(x)\n",
    "\n",
    "def sin(x):\n",
    "    return np.sin(x)\n",
    "\n",
    "def tan(x):\n",
    "    return np.tan(x)"
   ]
  },
  {
   "cell_type": "code",
   "execution_count": 10,
   "id": "b8cb924a",
   "metadata": {},
   "outputs": [
    {
     "data": {
      "text/plain": [
       "<matplotlib.collections.PathCollection at 0x216880eea90>"
      ]
     },
     "execution_count": 10,
     "metadata": {},
     "output_type": "execute_result"
    },
    {
     "data": {
      "image/png": "[encoded data removed]",
      "text/plain": [
       "<Figure size 360x360 with 1 Axes>"
      ]
     },
     "metadata": {
      "needs_background": "light"
     },
     "output_type": "display_data"
    }
   ],
   "source": [
    "import matplotlib.pyplot as plt\n",
    "\n",
    "r_1 = 1/np.sqrt(3)\n",
    "r_2 = np.sqrt(3) * r_1\n",
    "\n",
    "def hexagon_shell_1():\n",
    "    x = [r_1 * cos(0), r_1 * cos(pi/3), r_1 * cos(2*pi/3), r_1 * cos(pi), r_1 * cos(4*pi/3), r_1 * cos(5*pi/3), 0]\n",
    "    y = [r_1 * sin(0), r_1 * sin(pi/3), r_1 * sin(2*pi/3), r_1 * sin(pi), r_1 * sin(4*pi/3), r_1 * sin(5*pi/3), 0]\n",
    "    return (x,y)\n",
    "\n",
    "def hexagon_shell_2():\n",
    "    x = [r_2 * cos(pi/2), r_2 * cos(5*pi/6), r_2 * cos(7*pi/6), r_2 * cos(9*pi/6), r_2 * cos(11*pi/6), r_2 * cos(13*pi/6)]\n",
    "    y = [r_2 * sin(pi/2), r_2 * sin(5*pi/6), r_2 * sin(7*pi/6), r_2 * sin(9*pi/6), r_2 * sin(11*pi/6), r_2 * sin(13*pi/6)]\n",
    "    return (x,y)\n",
    "\n",
    "\n",
    "plt.figure(figsize = (5, 5))\n",
    "plt.xlim(-1.2, 1.2)\n",
    "plt.ylim(-1.2, 1.2)\n",
    "plt.scatter(hexagon_shell_1()[0], hexagon_shell_1()[1])\n",
    "plt.scatter(hexagon_shell_2()[0], hexagon_shell_2()[1])"
   ]
  },
  {
   "cell_type": "code",
   "execution_count": 16,
   "id": "963f001b",
   "metadata": {},
   "outputs": [
    {
     "data": {
      "text/plain": [
       "<matplotlib.collections.PathCollection at 0x2168827c940>"
      ]
     },
     "execution_count": 16,
     "metadata": {},
     "output_type": "execute_result"
    },
    {
     "data": {
      "image/png": "[encoded data removed]",
      "text/plain": [
       "<Figure size 360x360 with 1 Axes>"
      ]
     },
     "metadata": {
      "needs_background": "light"
     },
     "output_type": "display_data"
    }
   ],
   "source": [
    "r_1 = 1/np.sqrt(2)\n",
    "r_2 = np.sqrt(2) * r_1\n",
    "\n",
    "def square_shell_1():\n",
    "    x = [0, r_1 * cos(pi/4), r_1 * cos(3*pi/4), r_1 * cos(5*pi/4), r_1 * cos(7*pi/4)]\n",
    "    y = [0, r_1 * sin(pi/4), r_1 * sin(3*pi/4), r_1 * sin(5*pi/4), r_1 * sin(7*pi/4)]\n",
    "    return (x,y)\n",
    "\n",
    "def square_shell_2():\n",
    "    x = [r_2 * cos(pi/2), r_2 * cos(pi), r_2 * cos(3*pi/2), r_2 * cos(0)]\n",
    "    y = [r_2 * sin(pi/2), r_2 * sin(pi), r_2 * sin(3*pi/2), r_2 * sin(0)]\n",
    "    return (x,y)\n",
    "\n",
    "plt.figure(figsize = (5, 5))\n",
    "plt.xlim(-1.2, 1.2)\n",
    "plt.ylim(-1.2, 1.2)\n",
    "plt.scatter(square_shell_1()[0], square_shell_1()[1])\n",
    "plt.scatter(square_shell_2()[0], square_shell_2()[1])"
   ]
  },
  {
   "cell_type": "code",
   "execution_count": 25,
   "id": "f1ca1753",
   "metadata": {},
   "outputs": [
    {
     "data": {
      "text/plain": [
       "<matplotlib.collections.PathCollection at 0x216882fe610>"
      ]
     },
     "execution_count": 25,
     "metadata": {},
     "output_type": "execute_result"
    },
    {
     "data": {
      "image/png": "[encoded data removed]",
      "text/plain": [
       "<Figure size 360x360 with 1 Axes>"
      ]
     },
     "metadata": {
      "needs_background": "light"
     },
     "output_type": "display_data"
    }
   ],
   "source": [
    "r_1 = 1/np.sqrt(3)\n",
    "r_2 = np.sqrt(3) * r_1\n",
    "\n",
    "def Rhombohedral_shell_1():\n",
    "    x = [0, r_1 * cos(0), r_1 * cos(pi/3), r_1 * cos(pi), r_1 * cos(4*pi/3)]\n",
    "    y = [0, r_1 * sin(0), r_1 * sin(pi/3), r_1 * sin(pi), r_1 * sin(4*pi/3)]\n",
    "    return (x,y)\n",
    "\n",
    "\n",
    "def Rhombohedral_shell_2():\n",
    "    x = [r_2 * cos(pi/6), r_2 * tan(pi/6) * cos(2*pi/3), r_2 * cos(7*pi/6), r_2 * tan(pi/6) * cos(5*pi/3)]\n",
    "    y = [r_2 * sin(pi/6), r_2 * tan(pi/6) * sin(2*pi/3), r_2 * sin(7*pi/6), r_2 * tan(pi/6) * sin(5*pi/3)]\n",
    "    return (x,y)\n",
    "\n",
    "\n",
    "plt.figure(figsize = (5, 5))\n",
    "plt.xlim(-1.2, 1.2)\n",
    "plt.ylim(-1.2, 1.2)\n",
    "plt.scatter(Rhombohedral_shell_1()[0], Rhombohedral_shell_1()[1])\n",
    "plt.scatter(Rhombohedral_shell_2()[0], Rhombohedral_shell_2()[1])"
   ]
  },
  {
   "cell_type": "code",
   "execution_count": null,
   "id": "65e32202",
   "metadata": {},
   "outputs": [],
   "source": []
  }
 ],
 "metadata": {
  "kernelspec": {
   "display_name": "Python 3",
   "language": "python",
   "name": "python3"
  },
  "language_info": {
   "codemirror_mode": {
    "name": "ipython",
    "version": 3
   },
   "file_extension": ".py",
   "mimetype": "text/x-python",
   "name": "python",
   "nbconvert_exporter": "python",
   "pygments_lexer": "ipython3",
   "version": "3.8.8"
  }
 },
 "nbformat": 4,
 "nbformat_minor": 5
}
