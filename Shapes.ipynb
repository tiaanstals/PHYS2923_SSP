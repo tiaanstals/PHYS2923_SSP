{
 "cells": [
  {
   "cell_type": "code",
   "execution_count": 3,
   "id": "30f9452a",
   "metadata": {},
   "outputs": [
    {
     "data": {
      "text/plain": [
       "<matplotlib.collections.PathCollection at 0x131a1cf60>"
      ]
     },
     "execution_count": 3,
     "metadata": {},
     "output_type": "execute_result"
    },
    {
     "data": {
      "image/png": "[encoded data removed]",
      "text/plain": [
       "<Figure size 432x288 with 1 Axes>"
      ]
     },
     "metadata": {
      "needs_background": "light"
     },
     "output_type": "display_data"
    }
   ],
   "source": [
    "import matplotlib.pyplot as plt\n",
    "def generate_shape():\n",
    "    x = [0, 0.05, -0.05, 0, 0]\n",
    "    y = [0, 0, 0,0.05, -0.05]\n",
    "    return (x,y)\n",
    "plt.scatter(generate_shape()[0],generate_shape()[1])"
   ]
  },
  {
   "cell_type": "code",
   "execution_count": null,
   "id": "b8cb924a",
   "metadata": {},
   "outputs": [],
   "source": []
  }
 ],
 "metadata": {
  "kernelspec": {
   "display_name": "Python 3",
   "language": "python",
   "name": "python3"
  },
  "language_info": {
   "codemirror_mode": {
    "name": "ipython",
    "version": 3
   },
   "file_extension": ".py",
   "mimetype": "text/x-python",
   "name": "python",
   "nbconvert_exporter": "python",
   "pygments_lexer": "ipython3",
   "version": "3.6.5"
  }
 },
 "nbformat": 4,
 "nbformat_minor": 5
}
